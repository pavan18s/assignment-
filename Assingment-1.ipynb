{
 "cells": [
  {
   "cell_type": "raw",
   "id": "f5b84aa6",
   "metadata": {},
   "source": [
    "1. In the below elements which of them are values or an expression? eg:- values can be integer or string and expressions will be mathematical operators.\n",
    "* \n",
    "'hello'\n",
    "-87.8\n",
    "- \n",
    "/ \n",
    "\n",
    "\n",
    "6 \n"
   ]
  },
  {
   "cell_type": "raw",
   "id": "a331c5bb",
   "metadata": {},
   "source": [
    "Ans- Values-'hello',-87.8,6\n",
    "     Ecpression-*,/,-"
   ]
  },
  {
   "cell_type": "raw",
   "id": "0f1b328e",
   "metadata": {},
   "source": [
    "2. What is the difference between string and variable?\n"
   ]
  },
  {
   "cell_type": "raw",
   "id": "33c1849d",
   "metadata": {},
   "source": [
    "Ans-string are sequence of charachter that are iterable whereas variable is entity which allocate location or address for storing string,character,values deppending on data type\n"
   ]
  },
  {
   "cell_type": "raw",
   "id": "60c10c2b",
   "metadata": {},
   "source": [
    "3. Describe three different data types"
   ]
  },
  {
   "cell_type": "raw",
   "id": "228d9992",
   "metadata": {},
   "source": [
    "Ans-int-store integer\n",
    "    float-store integer with decimal\n",
    "    str-store string "
   ]
  },
  {
   "cell_type": "raw",
   "id": "d853ae57",
   "metadata": {},
   "source": [
    "4. What is an expression made up of? What do all expressions do?\n"
   ]
  },
  {
   "cell_type": "raw",
   "id": "51f0ae33",
   "metadata": {},
   "source": [
    "Ans-Expression are made up of different operator and perform different arithematic,logical,comparison opperation"
   ]
  },
  {
   "cell_type": "raw",
   "id": "2b7e27e5",
   "metadata": {},
   "source": [
    "5. This assignment statements, like spam = 10. What is the difference between an expression and a statement?\n"
   ]
  },
  {
   "cell_type": "raw",
   "id": "dba5a9ba",
   "metadata": {},
   "source": [
    "Expression perform certain operation whereas statement assign perticular value to variable"
   ]
  },
  {
   "cell_type": "raw",
   "id": "a224a4b6",
   "metadata": {},
   "source": [
    "6. After running the following code, what does the variable bacon contain?\n",
    "bacon = 22\n",
    "bacon + 1\n"
   ]
  },
  {
   "cell_type": "raw",
   "id": "d1829cb3",
   "metadata": {},
   "source": [
    "Ans=22"
   ]
  },
  {
   "cell_type": "raw",
   "id": "499d9a39",
   "metadata": {},
   "source": [
    "7. What should the values of the following two terms be?\n",
    "'spam' + 'spamspam'\n",
    "'spam' * 3\n"
   ]
  },
  {
   "cell_type": "raw",
   "id": "8db62acf",
   "metadata": {},
   "source": [
    "Ans-'spamspamspam'\n"
   ]
  },
  {
   "cell_type": "raw",
   "id": "6a1a4f85",
   "metadata": {},
   "source": [
    "8. Why is eggs a valid variable name while 100 is invalid?\n"
   ]
  },
  {
   "cell_type": "raw",
   "id": "0e6e978c",
   "metadata": {},
   "source": [
    "Ans-variable name newere start with number thats why eggs is valid and 100 is invalid variable name"
   ]
  },
  {
   "cell_type": "raw",
   "id": "e1c075ae",
   "metadata": {},
   "source": [
    "9. What three functions can be used to get the integer, floating-point number, or string version of a value?\n"
   ]
  },
  {
   "cell_type": "raw",
   "id": "03b75a0c",
   "metadata": {},
   "source": [
    "Ans-int(),float(),str()"
   ]
  },
  {
   "cell_type": "raw",
   "id": "8cc6d6eb",
   "metadata": {},
   "source": [
    "10. Why does this expression cause an error? How can you fix it?\n",
    "'I have eaten ' + 99 + ' burritos.'\n"
   ]
  },
  {
   "cell_type": "raw",
   "id": "07f3130e",
   "metadata": {},
   "source": [
    "Ans-Two differet data types int and string will not going to concadenate two resolve error we have to change the data type of 99 to string"
   ]
  }
 ],
 "metadata": {
  "kernelspec": {
   "display_name": "Python 3 (ipykernel)",
   "language": "python",
   "name": "python3"
  },
  "language_info": {
   "codemirror_mode": {
    "name": "ipython",
    "version": 3
   },
   "file_extension": ".py",
   "mimetype": "text/x-python",
   "name": "python",
   "nbconvert_exporter": "python",
   "pygments_lexer": "ipython3",
   "version": "3.9.7"
  }
 },
 "nbformat": 4,
 "nbformat_minor": 5
}
